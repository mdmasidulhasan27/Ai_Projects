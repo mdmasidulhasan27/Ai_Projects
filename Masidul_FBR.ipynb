{
  "nbformat": 4,
  "nbformat_minor": 0,
  "metadata": {
    "colab": {
      "name": "Masidul FBR.ipynb",
      "provenance": [],
      "collapsed_sections": [],
      "include_colab_link": true
    },
    "kernelspec": {
      "name": "python3",
      "display_name": "Python 3"
    },
    "language_info": {
      "name": "python"
    }
  },
  "cells": [
    {
      "cell_type": "markdown",
      "metadata": {
        "id": "view-in-github",
        "colab_type": "text"
      },
      "source": [
        "<a href=\"https://colab.research.google.com/github/mdmasidulhasan27/Ai_Projects/blob/main/Masidul_FBR.ipynb\" target=\"_parent\"><img src=\"https://colab.research.google.com/assets/colab-badge.svg\" alt=\"Open In Colab\"/></a>"
      ]
    },
    {
      "cell_type": "markdown",
      "metadata": {
        "id": "Z_yCCJp8I_O6"
      },
      "source": [
        "Topic name: Food business analysis and prediction using Machine Learning.\n",
        "\n",
        "Members info:\n",
        "\n",
        "1. Md Sharif khan      ID: 181-15-2002\n",
        "2. Md Jahid Hasan      ID: 181-15-1905\n",
        "3. Md Masidul Hasan    ID: 181-15-1947\n",
        "\n"
      ]
    },
    {
      "cell_type": "markdown",
      "metadata": {
        "id": "DzMj0Hze3XKh"
      },
      "source": [
        "#***Importing libary and Mounting***"
      ]
    },
    {
      "cell_type": "code",
      "metadata": {
        "colab": {
          "base_uri": "https://localhost:8080/"
        },
        "id": "2ZuUNFXU3Clw",
        "outputId": "1ec32dca-4264-45d8-db69-f2a76c477e6c"
      },
      "source": [
        "import pandas as pd\n",
        "from google.colab import drive\n",
        "drive.mount('/content/gdrive')"
      ],
      "execution_count": 3,
      "outputs": [
        {
          "output_type": "stream",
          "text": [
            "Drive already mounted at /content/gdrive; to attempt to forcibly remount, call drive.mount(\"/content/gdrive\", force_remount=True).\n"
          ],
          "name": "stdout"
        }
      ]
    },
    {
      "cell_type": "markdown",
      "metadata": {
        "id": "HFOE3bPr63Fh"
      },
      "source": [
        "#**Import Data and test**"
      ]
    },
    {
      "cell_type": "code",
      "metadata": {
        "id": "TDFEIUv03iYv",
        "colab": {
          "base_uri": "https://localhost:8080/",
          "height": 647
        },
        "outputId": "d794d12d-2b2e-424f-d0a6-80750a36a155"
      },
      "source": [
        "dataF = pd.read_csv(\"/content/gdrive/MyDrive/Colab Notebooks/ML-Project/fooddata.csv\")\n",
        "cleanColumns = ['take_food_from_restuarent_month', 'Order_food_from_online_month', 'Cost_rest_month', 'New_recipe', 'Home_town', 'Living_Town']\n",
        "dataF = dataF.drop(cleanColumns, axis=1)\n",
        "dataF.head(20)"
      ],
      "execution_count": 4,
      "outputs": [
        {
          "output_type": "execute_result",
          "data": {
            "text/html": [
              "<div>\n",
              "<style scoped>\n",
              "    .dataframe tbody tr th:only-of-type {\n",
              "        vertical-align: middle;\n",
              "    }\n",
              "\n",
              "    .dataframe tbody tr th {\n",
              "        vertical-align: top;\n",
              "    }\n",
              "\n",
              "    .dataframe thead th {\n",
              "        text-align: right;\n",
              "    }\n",
              "</style>\n",
              "<table border=\"1\" class=\"dataframe\">\n",
              "  <thead>\n",
              "    <tr style=\"text-align: right;\">\n",
              "      <th></th>\n",
              "      <th>Age</th>\n",
              "      <th>Gender</th>\n",
              "      <th>Marital_status</th>\n",
              "      <th>Division</th>\n",
              "      <th>Is_urban</th>\n",
              "      <th>Work</th>\n",
              "      <th>Income</th>\n",
              "      <th>Spicy</th>\n",
              "      <th>Sweet</th>\n",
              "      <th>Preferable_price_BDT</th>\n",
              "      <th>Street_food</th>\n",
              "      <th>Restuarent_food</th>\n",
              "      <th>Food_type</th>\n",
              "    </tr>\n",
              "  </thead>\n",
              "  <tbody>\n",
              "    <tr>\n",
              "      <th>0</th>\n",
              "      <td>16-30</td>\n",
              "      <td>Male</td>\n",
              "      <td>Unmarried</td>\n",
              "      <td>Dhaka</td>\n",
              "      <td>Yes</td>\n",
              "      <td>Private Job</td>\n",
              "      <td>30000+</td>\n",
              "      <td>4</td>\n",
              "      <td>3</td>\n",
              "      <td>101-200</td>\n",
              "      <td>4</td>\n",
              "      <td>3</td>\n",
              "      <td>Traditional bengali food</td>\n",
              "    </tr>\n",
              "    <tr>\n",
              "      <th>1</th>\n",
              "      <td>16-30</td>\n",
              "      <td>Male</td>\n",
              "      <td>Unmarried</td>\n",
              "      <td>Rajshahi</td>\n",
              "      <td>No</td>\n",
              "      <td>Student</td>\n",
              "      <td>1-10000</td>\n",
              "      <td>4</td>\n",
              "      <td>5</td>\n",
              "      <td>101-200</td>\n",
              "      <td>5</td>\n",
              "      <td>4</td>\n",
              "      <td>Traditional bengali food</td>\n",
              "    </tr>\n",
              "    <tr>\n",
              "      <th>2</th>\n",
              "      <td>16-30</td>\n",
              "      <td>Male</td>\n",
              "      <td>Unmarried</td>\n",
              "      <td>Rajshahi</td>\n",
              "      <td>Yes</td>\n",
              "      <td>Student</td>\n",
              "      <td>0</td>\n",
              "      <td>5</td>\n",
              "      <td>5</td>\n",
              "      <td>1-50</td>\n",
              "      <td>5</td>\n",
              "      <td>5</td>\n",
              "      <td>Fast food</td>\n",
              "    </tr>\n",
              "    <tr>\n",
              "      <th>3</th>\n",
              "      <td>16-30</td>\n",
              "      <td>Male</td>\n",
              "      <td>Married</td>\n",
              "      <td>Khulna</td>\n",
              "      <td>Yes</td>\n",
              "      <td>Student</td>\n",
              "      <td>0</td>\n",
              "      <td>2</td>\n",
              "      <td>4</td>\n",
              "      <td>51-100</td>\n",
              "      <td>4</td>\n",
              "      <td>3</td>\n",
              "      <td>Traditional bengali food</td>\n",
              "    </tr>\n",
              "    <tr>\n",
              "      <th>4</th>\n",
              "      <td>16-30</td>\n",
              "      <td>Male</td>\n",
              "      <td>Married</td>\n",
              "      <td>Dhaka</td>\n",
              "      <td>Yes</td>\n",
              "      <td>Student</td>\n",
              "      <td>1-10000</td>\n",
              "      <td>5</td>\n",
              "      <td>2</td>\n",
              "      <td>51-100</td>\n",
              "      <td>4</td>\n",
              "      <td>2</td>\n",
              "      <td>Fast food</td>\n",
              "    </tr>\n",
              "    <tr>\n",
              "      <th>5</th>\n",
              "      <td>45+</td>\n",
              "      <td>Female</td>\n",
              "      <td>Married</td>\n",
              "      <td>Dhaka</td>\n",
              "      <td>Yes</td>\n",
              "      <td>Private Job</td>\n",
              "      <td>20001-30000</td>\n",
              "      <td>2</td>\n",
              "      <td>5</td>\n",
              "      <td>201-400</td>\n",
              "      <td>1</td>\n",
              "      <td>4</td>\n",
              "      <td>Traditional bengali food</td>\n",
              "    </tr>\n",
              "    <tr>\n",
              "      <th>6</th>\n",
              "      <td>16-30</td>\n",
              "      <td>Male</td>\n",
              "      <td>Unmarried</td>\n",
              "      <td>Dhaka</td>\n",
              "      <td>No</td>\n",
              "      <td>Student</td>\n",
              "      <td>0</td>\n",
              "      <td>4</td>\n",
              "      <td>1</td>\n",
              "      <td>51-100</td>\n",
              "      <td>3</td>\n",
              "      <td>3</td>\n",
              "      <td>Traditional bengali food</td>\n",
              "    </tr>\n",
              "    <tr>\n",
              "      <th>7</th>\n",
              "      <td>16-30</td>\n",
              "      <td>Male</td>\n",
              "      <td>Unmarried</td>\n",
              "      <td>Dhaka</td>\n",
              "      <td>Yes</td>\n",
              "      <td>Student</td>\n",
              "      <td>0</td>\n",
              "      <td>3</td>\n",
              "      <td>2</td>\n",
              "      <td>51-100</td>\n",
              "      <td>1</td>\n",
              "      <td>3</td>\n",
              "      <td>Others</td>\n",
              "    </tr>\n",
              "    <tr>\n",
              "      <th>8</th>\n",
              "      <td>16-30</td>\n",
              "      <td>Male</td>\n",
              "      <td>Unmarried</td>\n",
              "      <td>Dhaka</td>\n",
              "      <td>No</td>\n",
              "      <td>Student</td>\n",
              "      <td>1-10000</td>\n",
              "      <td>2</td>\n",
              "      <td>5</td>\n",
              "      <td>1-50</td>\n",
              "      <td>5</td>\n",
              "      <td>3</td>\n",
              "      <td>Traditional bengali food</td>\n",
              "    </tr>\n",
              "    <tr>\n",
              "      <th>9</th>\n",
              "      <td>16-30</td>\n",
              "      <td>Male</td>\n",
              "      <td>Unmarried</td>\n",
              "      <td>Dhaka</td>\n",
              "      <td>Yes</td>\n",
              "      <td>Student</td>\n",
              "      <td>1-10000</td>\n",
              "      <td>3</td>\n",
              "      <td>4</td>\n",
              "      <td>101-200</td>\n",
              "      <td>4</td>\n",
              "      <td>4</td>\n",
              "      <td>Traditional bengali food</td>\n",
              "    </tr>\n",
              "    <tr>\n",
              "      <th>10</th>\n",
              "      <td>45+</td>\n",
              "      <td>Other</td>\n",
              "      <td>Married</td>\n",
              "      <td>Rangpur</td>\n",
              "      <td>No</td>\n",
              "      <td>None</td>\n",
              "      <td>30000+</td>\n",
              "      <td>5</td>\n",
              "      <td>5</td>\n",
              "      <td>501+</td>\n",
              "      <td>5</td>\n",
              "      <td>5</td>\n",
              "      <td>Others</td>\n",
              "    </tr>\n",
              "    <tr>\n",
              "      <th>11</th>\n",
              "      <td>16-30</td>\n",
              "      <td>Male</td>\n",
              "      <td>Unmarried</td>\n",
              "      <td>Dhaka</td>\n",
              "      <td>Yes</td>\n",
              "      <td>Student</td>\n",
              "      <td>1-10000</td>\n",
              "      <td>3</td>\n",
              "      <td>4</td>\n",
              "      <td>51-100</td>\n",
              "      <td>2</td>\n",
              "      <td>2</td>\n",
              "      <td>Traditional bengali food</td>\n",
              "    </tr>\n",
              "    <tr>\n",
              "      <th>12</th>\n",
              "      <td>16-30</td>\n",
              "      <td>Male</td>\n",
              "      <td>Unmarried</td>\n",
              "      <td>Dhaka</td>\n",
              "      <td>Yes</td>\n",
              "      <td>Student</td>\n",
              "      <td>0</td>\n",
              "      <td>4</td>\n",
              "      <td>5</td>\n",
              "      <td>1-50</td>\n",
              "      <td>5</td>\n",
              "      <td>2</td>\n",
              "      <td>Fast food</td>\n",
              "    </tr>\n",
              "    <tr>\n",
              "      <th>13</th>\n",
              "      <td>16-30</td>\n",
              "      <td>Male</td>\n",
              "      <td>Unmarried</td>\n",
              "      <td>Dhaka</td>\n",
              "      <td>Yes</td>\n",
              "      <td>Student</td>\n",
              "      <td>0</td>\n",
              "      <td>4</td>\n",
              "      <td>2</td>\n",
              "      <td>101-200</td>\n",
              "      <td>4</td>\n",
              "      <td>3</td>\n",
              "      <td>Fast food</td>\n",
              "    </tr>\n",
              "    <tr>\n",
              "      <th>14</th>\n",
              "      <td>16-30</td>\n",
              "      <td>Male</td>\n",
              "      <td>Unmarried</td>\n",
              "      <td>Dhaka</td>\n",
              "      <td>Yes</td>\n",
              "      <td>Student</td>\n",
              "      <td>0</td>\n",
              "      <td>4</td>\n",
              "      <td>2</td>\n",
              "      <td>101-200</td>\n",
              "      <td>5</td>\n",
              "      <td>4</td>\n",
              "      <td>Fast food</td>\n",
              "    </tr>\n",
              "    <tr>\n",
              "      <th>15</th>\n",
              "      <td>16-30</td>\n",
              "      <td>Male</td>\n",
              "      <td>Unmarried</td>\n",
              "      <td>Dhaka</td>\n",
              "      <td>No</td>\n",
              "      <td>Student</td>\n",
              "      <td>0</td>\n",
              "      <td>4</td>\n",
              "      <td>5</td>\n",
              "      <td>101-200</td>\n",
              "      <td>5</td>\n",
              "      <td>5</td>\n",
              "      <td>Fast food</td>\n",
              "    </tr>\n",
              "    <tr>\n",
              "      <th>16</th>\n",
              "      <td>16-30</td>\n",
              "      <td>Female</td>\n",
              "      <td>Unmarried</td>\n",
              "      <td>Dhaka</td>\n",
              "      <td>Yes</td>\n",
              "      <td>Student</td>\n",
              "      <td>0</td>\n",
              "      <td>5</td>\n",
              "      <td>2</td>\n",
              "      <td>201-400</td>\n",
              "      <td>2</td>\n",
              "      <td>5</td>\n",
              "      <td>Fast food</td>\n",
              "    </tr>\n",
              "    <tr>\n",
              "      <th>17</th>\n",
              "      <td>45+</td>\n",
              "      <td>Male</td>\n",
              "      <td>Married</td>\n",
              "      <td>Dhaka</td>\n",
              "      <td>Yes</td>\n",
              "      <td>Govt. Job</td>\n",
              "      <td>30000+</td>\n",
              "      <td>3</td>\n",
              "      <td>3</td>\n",
              "      <td>201-400</td>\n",
              "      <td>1</td>\n",
              "      <td>3</td>\n",
              "      <td>Traditional bengali food</td>\n",
              "    </tr>\n",
              "    <tr>\n",
              "      <th>18</th>\n",
              "      <td>16-30</td>\n",
              "      <td>Female</td>\n",
              "      <td>Unmarried</td>\n",
              "      <td>Dhaka</td>\n",
              "      <td>Yes</td>\n",
              "      <td>Student</td>\n",
              "      <td>0</td>\n",
              "      <td>3</td>\n",
              "      <td>3</td>\n",
              "      <td>201-400</td>\n",
              "      <td>5</td>\n",
              "      <td>5</td>\n",
              "      <td>Fast food</td>\n",
              "    </tr>\n",
              "    <tr>\n",
              "      <th>19</th>\n",
              "      <td>31-45</td>\n",
              "      <td>Female</td>\n",
              "      <td>Married</td>\n",
              "      <td>Dhaka</td>\n",
              "      <td>Yes</td>\n",
              "      <td>None</td>\n",
              "      <td>0</td>\n",
              "      <td>4</td>\n",
              "      <td>5</td>\n",
              "      <td>201-400</td>\n",
              "      <td>4</td>\n",
              "      <td>5</td>\n",
              "      <td>Traditional bengali food</td>\n",
              "    </tr>\n",
              "  </tbody>\n",
              "</table>\n",
              "</div>"
            ],
            "text/plain": [
              "      Age  Gender  ... Restuarent_food                 Food_type\n",
              "0   16-30    Male  ...               3  Traditional bengali food\n",
              "1   16-30    Male  ...               4  Traditional bengali food\n",
              "2   16-30    Male  ...               5                 Fast food\n",
              "3   16-30    Male  ...               3  Traditional bengali food\n",
              "4   16-30    Male  ...               2                 Fast food\n",
              "5     45+  Female  ...               4  Traditional bengali food\n",
              "6   16-30    Male  ...               3  Traditional bengali food\n",
              "7   16-30    Male  ...               3                    Others\n",
              "8   16-30    Male  ...               3  Traditional bengali food\n",
              "9   16-30    Male  ...               4  Traditional bengali food\n",
              "10    45+   Other  ...               5                    Others\n",
              "11  16-30    Male  ...               2  Traditional bengali food\n",
              "12  16-30    Male  ...               2                 Fast food\n",
              "13  16-30    Male  ...               3                 Fast food\n",
              "14  16-30    Male  ...               4                 Fast food\n",
              "15  16-30    Male  ...               5                 Fast food\n",
              "16  16-30  Female  ...               5                 Fast food\n",
              "17    45+    Male  ...               3  Traditional bengali food\n",
              "18  16-30  Female  ...               5                 Fast food\n",
              "19  31-45  Female  ...               5  Traditional bengali food\n",
              "\n",
              "[20 rows x 13 columns]"
            ]
          },
          "metadata": {
            "tags": []
          },
          "execution_count": 4
        }
      ]
    },
    {
      "cell_type": "markdown",
      "metadata": {
        "id": "Q-5LCoXZ69FK"
      },
      "source": [
        "#**Print columns name**"
      ]
    },
    {
      "cell_type": "code",
      "metadata": {
        "colab": {
          "base_uri": "https://localhost:8080/",
          "height": 406
        },
        "id": "eTh-FnQHWJap",
        "outputId": "2d1ad712-ce06-4923-c644-05c6e5f8765f"
      },
      "source": [
        "dataF[['Age', 'Gender']]"
      ],
      "execution_count": 5,
      "outputs": [
        {
          "output_type": "execute_result",
          "data": {
            "text/html": [
              "<div>\n",
              "<style scoped>\n",
              "    .dataframe tbody tr th:only-of-type {\n",
              "        vertical-align: middle;\n",
              "    }\n",
              "\n",
              "    .dataframe tbody tr th {\n",
              "        vertical-align: top;\n",
              "    }\n",
              "\n",
              "    .dataframe thead th {\n",
              "        text-align: right;\n",
              "    }\n",
              "</style>\n",
              "<table border=\"1\" class=\"dataframe\">\n",
              "  <thead>\n",
              "    <tr style=\"text-align: right;\">\n",
              "      <th></th>\n",
              "      <th>Age</th>\n",
              "      <th>Gender</th>\n",
              "    </tr>\n",
              "  </thead>\n",
              "  <tbody>\n",
              "    <tr>\n",
              "      <th>0</th>\n",
              "      <td>16-30</td>\n",
              "      <td>Male</td>\n",
              "    </tr>\n",
              "    <tr>\n",
              "      <th>1</th>\n",
              "      <td>16-30</td>\n",
              "      <td>Male</td>\n",
              "    </tr>\n",
              "    <tr>\n",
              "      <th>2</th>\n",
              "      <td>16-30</td>\n",
              "      <td>Male</td>\n",
              "    </tr>\n",
              "    <tr>\n",
              "      <th>3</th>\n",
              "      <td>16-30</td>\n",
              "      <td>Male</td>\n",
              "    </tr>\n",
              "    <tr>\n",
              "      <th>4</th>\n",
              "      <td>16-30</td>\n",
              "      <td>Male</td>\n",
              "    </tr>\n",
              "    <tr>\n",
              "      <th>...</th>\n",
              "      <td>...</td>\n",
              "      <td>...</td>\n",
              "    </tr>\n",
              "    <tr>\n",
              "      <th>417</th>\n",
              "      <td>16-30</td>\n",
              "      <td>Male</td>\n",
              "    </tr>\n",
              "    <tr>\n",
              "      <th>418</th>\n",
              "      <td>16-30</td>\n",
              "      <td>Male</td>\n",
              "    </tr>\n",
              "    <tr>\n",
              "      <th>419</th>\n",
              "      <td>16-30</td>\n",
              "      <td>Male</td>\n",
              "    </tr>\n",
              "    <tr>\n",
              "      <th>420</th>\n",
              "      <td>45+</td>\n",
              "      <td>Female</td>\n",
              "    </tr>\n",
              "    <tr>\n",
              "      <th>421</th>\n",
              "      <td>16-30</td>\n",
              "      <td>Male</td>\n",
              "    </tr>\n",
              "  </tbody>\n",
              "</table>\n",
              "<p>422 rows × 2 columns</p>\n",
              "</div>"
            ],
            "text/plain": [
              "       Age  Gender\n",
              "0    16-30    Male\n",
              "1    16-30    Male\n",
              "2    16-30    Male\n",
              "3    16-30    Male\n",
              "4    16-30    Male\n",
              "..     ...     ...\n",
              "417  16-30    Male\n",
              "418  16-30    Male\n",
              "419  16-30    Male\n",
              "420    45+  Female\n",
              "421  16-30    Male\n",
              "\n",
              "[422 rows x 2 columns]"
            ]
          },
          "metadata": {
            "tags": []
          },
          "execution_count": 5
        }
      ]
    },
    {
      "cell_type": "code",
      "metadata": {
        "id": "cZW8rWW-3s_i",
        "colab": {
          "base_uri": "https://localhost:8080/"
        },
        "outputId": "12bd72f4-7884-4295-c461-08ef1fb87809"
      },
      "source": [
        "dataF.columns"
      ],
      "execution_count": 6,
      "outputs": [
        {
          "output_type": "execute_result",
          "data": {
            "text/plain": [
              "Index(['Age', 'Gender', 'Marital_status', 'Division', 'Is_urban', 'Work',\n",
              "       'Income', 'Spicy', 'Sweet', 'Preferable_price_BDT', 'Street_food',\n",
              "       'Restuarent_food', 'Food_type'],\n",
              "      dtype='object')"
            ]
          },
          "metadata": {
            "tags": []
          },
          "execution_count": 6
        }
      ]
    },
    {
      "cell_type": "code",
      "metadata": {
        "id": "zbdhJKGb-l54",
        "colab": {
          "base_uri": "https://localhost:8080/"
        },
        "outputId": "be90a33a-995c-4fd8-e13b-42c14374269c"
      },
      "source": [
        "dataF.shape"
      ],
      "execution_count": 7,
      "outputs": [
        {
          "output_type": "execute_result",
          "data": {
            "text/plain": [
              "(422, 13)"
            ]
          },
          "metadata": {
            "tags": []
          },
          "execution_count": 7
        }
      ]
    },
    {
      "cell_type": "code",
      "metadata": {
        "id": "Tq3jXegC60jQ",
        "colab": {
          "base_uri": "https://localhost:8080/"
        },
        "outputId": "8cfccee6-f799-4e41-acbc-38551415720d"
      },
      "source": [
        "dataF.info()"
      ],
      "execution_count": 8,
      "outputs": [
        {
          "output_type": "stream",
          "text": [
            "<class 'pandas.core.frame.DataFrame'>\n",
            "RangeIndex: 422 entries, 0 to 421\n",
            "Data columns (total 13 columns):\n",
            " #   Column                Non-Null Count  Dtype \n",
            "---  ------                --------------  ----- \n",
            " 0   Age                   422 non-null    object\n",
            " 1   Gender                422 non-null    object\n",
            " 2   Marital_status        422 non-null    object\n",
            " 3   Division              422 non-null    object\n",
            " 4   Is_urban              422 non-null    object\n",
            " 5   Work                  422 non-null    object\n",
            " 6   Income                422 non-null    object\n",
            " 7   Spicy                 422 non-null    int64 \n",
            " 8   Sweet                 422 non-null    int64 \n",
            " 9   Preferable_price_BDT  422 non-null    object\n",
            " 10  Street_food           422 non-null    int64 \n",
            " 11  Restuarent_food       422 non-null    int64 \n",
            " 12  Food_type             422 non-null    object\n",
            "dtypes: int64(4), object(9)\n",
            "memory usage: 43.0+ KB\n"
          ],
          "name": "stdout"
        }
      ]
    },
    {
      "cell_type": "code",
      "metadata": {
        "id": "4gpqkZ9M7DOX",
        "colab": {
          "base_uri": "https://localhost:8080/"
        },
        "outputId": "41b7b7a0-7cc1-4378-dff7-45f00e1a8144"
      },
      "source": [
        "dataF.isnull().sum()"
      ],
      "execution_count": 9,
      "outputs": [
        {
          "output_type": "execute_result",
          "data": {
            "text/plain": [
              "Age                     0\n",
              "Gender                  0\n",
              "Marital_status          0\n",
              "Division                0\n",
              "Is_urban                0\n",
              "Work                    0\n",
              "Income                  0\n",
              "Spicy                   0\n",
              "Sweet                   0\n",
              "Preferable_price_BDT    0\n",
              "Street_food             0\n",
              "Restuarent_food         0\n",
              "Food_type               0\n",
              "dtype: int64"
            ]
          },
          "metadata": {
            "tags": []
          },
          "execution_count": 9
        }
      ]
    },
    {
      "cell_type": "markdown",
      "metadata": {
        "id": "QmiBKjpEJr3u"
      },
      "source": [
        "## **Data Cleaning**"
      ]
    },
    {
      "cell_type": "code",
      "metadata": {
        "id": "bdUcCSDvSyi6"
      },
      "source": [
        "for data in [dataF]:\n",
        "  data[\"Age\"] = data[\"Age\"].replace(\"0-15\",0)\n",
        "  data[\"Age\"] = data[\"Age\"].replace(\"16-30\",1)\n",
        "  data[\"Age\"] = data[\"Age\"].replace(\"31-45\",2)\n",
        "  data[\"Age\"] = data[\"Age\"].replace(\"45+\",3)"
      ],
      "execution_count": 10,
      "outputs": []
    },
    {
      "cell_type": "code",
      "metadata": {
        "id": "DVSBEUhhcDJy"
      },
      "source": [
        "gender_map = {\"Male\":0,\n",
        "              \"Female\":1,\n",
        "              \"Other\":2}\n",
        "for data in [dataF]:\n",
        "  data['Gender'] = data['Gender'].map(gender_map)"
      ],
      "execution_count": 11,
      "outputs": []
    },
    {
      "cell_type": "code",
      "metadata": {
        "id": "1QxiyHu3chx1"
      },
      "source": [
        "marrital_status_map = {\"Married\":0,\n",
        "                       \"Unmarried\":1}\n",
        "for data in [dataF]:\n",
        "  data['Marital_status'] = data['Marital_status'].map(marrital_status_map)"
      ],
      "execution_count": 12,
      "outputs": []
    },
    {
      "cell_type": "code",
      "metadata": {
        "id": "R3LOti32c6rN"
      },
      "source": [
        "division_map = {\"Barisal\":0,\n",
        "                \"Chittagong\":1,\n",
        "                \"Dhaka\":2,\n",
        "                \"Khulna\":3,\n",
        "                \"Mymensingh\":4,\n",
        "                \"Rajshahi\":5,\n",
        "                \"Sylhet\":6,\n",
        "                \"Rangpur\":7}\n",
        "for data in [dataF]:\n",
        "  data['Division'] = data['Division'].map(division_map)"
      ],
      "execution_count": 13,
      "outputs": []
    },
    {
      "cell_type": "code",
      "metadata": {
        "id": "5Unoy1p6k8s6"
      },
      "source": [
        "urban_map = {\"Yes\":1\n",
        "             ,\"No\":0}\n",
        "for data in [dataF]:\n",
        "  data['Is_urban'] = data['Is_urban'].map(urban_map)"
      ],
      "execution_count": 14,
      "outputs": []
    },
    {
      "cell_type": "code",
      "metadata": {
        "id": "7PphXA1GlOiE"
      },
      "source": [
        "work_map = {\"Private Job\":0,\n",
        "            \"Govt. Job\":1,\n",
        "            \"Business\":2,\n",
        "            \"Student\":3,\n",
        "            \"None\":4}\n",
        "for data in [dataF]:\n",
        "  data['Work'] = data['Work'].map(work_map)"
      ],
      "execution_count": 15,
      "outputs": []
    },
    {
      "cell_type": "code",
      "metadata": {
        "id": "D4IBfbAVl6JW"
      },
      "source": [
        "for dataset in [dataF]:\n",
        "  dataset[\"Income\"] = dataset[\"Income\"].replace(\"0\",0)\n",
        "  dataset[\"Income\"] = dataset[\"Income\"].replace(\"1-10000\",1)\n",
        "  dataset[\"Income\"] = dataset[\"Income\"].replace(\"10001-20000\",2)\n",
        "  dataset[\"Income\"] = dataset[\"Income\"].replace(\"20001-30000\",3)\n",
        "  dataset[\"Income\"] = dataset[\"Income\"].replace(\"30000+\",4)"
      ],
      "execution_count": 16,
      "outputs": []
    },
    {
      "cell_type": "code",
      "metadata": {
        "id": "-gJ2RhqupnZs"
      },
      "source": [
        "for dataset in [dataF]:\n",
        "  dataset[\"Preferable_price_BDT\"] = dataset[\"Preferable_price_BDT\"].replace(\"1-50\",0)\n",
        "  dataset[\"Preferable_price_BDT\"] = dataset[\"Preferable_price_BDT\"].replace(\"51-100\",1)\n",
        "  dataset[\"Preferable_price_BDT\"] = dataset[\"Preferable_price_BDT\"].replace(\"101-200\",2)\n",
        "  dataset[\"Preferable_price_BDT\"] = dataset[\"Preferable_price_BDT\"].replace(\"201-400\",3)\n",
        "  dataset[\"Preferable_price_BDT\"] = dataset[\"Preferable_price_BDT\"].replace(\"401-500\",4)\n",
        "  dataset[\"Preferable_price_BDT\"] = dataset[\"Preferable_price_BDT\"].replace(\"501+\",5)"
      ],
      "execution_count": 17,
      "outputs": []
    },
    {
      "cell_type": "code",
      "metadata": {
        "id": "yfpzQIK2q7T5"
      },
      "source": [
        "food_map = {\"Fast food\":0,\n",
        "            \"Traditional bengali food\":1,\n",
        "            \"Others\":2}\n",
        "for data in [dataF]:\n",
        "  data['Food_type'] = data['Food_type'].map(food_map)"
      ],
      "execution_count": 18,
      "outputs": []
    },
    {
      "cell_type": "code",
      "metadata": {
        "id": "GCuRznjxQPXK"
      },
      "source": [
        "# dataFrame = dataF.copy()\n",
        "# rows = dataframe.shape[0]\n",
        "dataF['Street_restaurant_both'] = 0\n",
        "# for i in range(rows):\n",
        "#   if(dataframe['Street_food'][i] > dataframe['Restuarent_food'][i]):\n",
        "#     dataframe['Street_restaurant_both'][i] = 0\n",
        "#   elif(dataframe['Street_food'][i] < dataframe['Restuarent_food'][i]):\n",
        "#     dataframe['Street_restaurant_both'][i] = 1\n",
        "#   else:\n",
        "#     dataframe['Street_restaurant_both'][i] = 2\n",
        "\n",
        "for dataset in [dataF]:\n",
        "    dataset.loc[ dataset['Street_food'] > dataset['Restuarent_food'], 'Street_restaurant_both'] = 0\n",
        "    dataset.loc[ dataset['Street_food'] < dataset['Restuarent_food'], 'Street_restaurant_both'] = 1\n",
        "    dataset.loc[ dataset['Street_food'] == dataset['Restuarent_food'], 'Street_restaurant_both'] = 2\n",
        "    \n",
        "deleteRows = ['Street_food', 'Restuarent_food']\n",
        "dataF = dataF.drop(deleteRows, axis = 1)"
      ],
      "execution_count": 19,
      "outputs": []
    },
    {
      "cell_type": "code",
      "metadata": {
        "id": "-lQedj5i-fXn",
        "colab": {
          "base_uri": "https://localhost:8080/"
        },
        "outputId": "cfb01b16-d3bb-4fbb-bed8-f04b3bb42cf5"
      },
      "source": [
        "dataF.info()"
      ],
      "execution_count": 20,
      "outputs": [
        {
          "output_type": "stream",
          "text": [
            "<class 'pandas.core.frame.DataFrame'>\n",
            "RangeIndex: 422 entries, 0 to 421\n",
            "Data columns (total 12 columns):\n",
            " #   Column                  Non-Null Count  Dtype\n",
            "---  ------                  --------------  -----\n",
            " 0   Age                     422 non-null    int64\n",
            " 1   Gender                  422 non-null    int64\n",
            " 2   Marital_status          422 non-null    int64\n",
            " 3   Division                422 non-null    int64\n",
            " 4   Is_urban                422 non-null    int64\n",
            " 5   Work                    422 non-null    int64\n",
            " 6   Income                  422 non-null    int64\n",
            " 7   Spicy                   422 non-null    int64\n",
            " 8   Sweet                   422 non-null    int64\n",
            " 9   Preferable_price_BDT    422 non-null    int64\n",
            " 10  Food_type               422 non-null    int64\n",
            " 11  Street_restaurant_both  422 non-null    int64\n",
            "dtypes: int64(12)\n",
            "memory usage: 39.7 KB\n"
          ],
          "name": "stdout"
        }
      ]
    },
    {
      "cell_type": "code",
      "metadata": {
        "id": "T6Ttb6RE-ie-",
        "colab": {
          "base_uri": "https://localhost:8080/",
          "height": 227
        },
        "outputId": "6fb4ded7-4067-474b-fac4-f8a0d06072bc"
      },
      "source": [
        "dataF.head(6)"
      ],
      "execution_count": 21,
      "outputs": [
        {
          "output_type": "execute_result",
          "data": {
            "text/html": [
              "<div>\n",
              "<style scoped>\n",
              "    .dataframe tbody tr th:only-of-type {\n",
              "        vertical-align: middle;\n",
              "    }\n",
              "\n",
              "    .dataframe tbody tr th {\n",
              "        vertical-align: top;\n",
              "    }\n",
              "\n",
              "    .dataframe thead th {\n",
              "        text-align: right;\n",
              "    }\n",
              "</style>\n",
              "<table border=\"1\" class=\"dataframe\">\n",
              "  <thead>\n",
              "    <tr style=\"text-align: right;\">\n",
              "      <th></th>\n",
              "      <th>Age</th>\n",
              "      <th>Gender</th>\n",
              "      <th>Marital_status</th>\n",
              "      <th>Division</th>\n",
              "      <th>Is_urban</th>\n",
              "      <th>Work</th>\n",
              "      <th>Income</th>\n",
              "      <th>Spicy</th>\n",
              "      <th>Sweet</th>\n",
              "      <th>Preferable_price_BDT</th>\n",
              "      <th>Food_type</th>\n",
              "      <th>Street_restaurant_both</th>\n",
              "    </tr>\n",
              "  </thead>\n",
              "  <tbody>\n",
              "    <tr>\n",
              "      <th>0</th>\n",
              "      <td>1</td>\n",
              "      <td>0</td>\n",
              "      <td>1</td>\n",
              "      <td>2</td>\n",
              "      <td>1</td>\n",
              "      <td>0</td>\n",
              "      <td>4</td>\n",
              "      <td>4</td>\n",
              "      <td>3</td>\n",
              "      <td>2</td>\n",
              "      <td>1</td>\n",
              "      <td>0</td>\n",
              "    </tr>\n",
              "    <tr>\n",
              "      <th>1</th>\n",
              "      <td>1</td>\n",
              "      <td>0</td>\n",
              "      <td>1</td>\n",
              "      <td>5</td>\n",
              "      <td>0</td>\n",
              "      <td>3</td>\n",
              "      <td>1</td>\n",
              "      <td>4</td>\n",
              "      <td>5</td>\n",
              "      <td>2</td>\n",
              "      <td>1</td>\n",
              "      <td>0</td>\n",
              "    </tr>\n",
              "    <tr>\n",
              "      <th>2</th>\n",
              "      <td>1</td>\n",
              "      <td>0</td>\n",
              "      <td>1</td>\n",
              "      <td>5</td>\n",
              "      <td>1</td>\n",
              "      <td>3</td>\n",
              "      <td>0</td>\n",
              "      <td>5</td>\n",
              "      <td>5</td>\n",
              "      <td>0</td>\n",
              "      <td>0</td>\n",
              "      <td>2</td>\n",
              "    </tr>\n",
              "    <tr>\n",
              "      <th>3</th>\n",
              "      <td>1</td>\n",
              "      <td>0</td>\n",
              "      <td>0</td>\n",
              "      <td>3</td>\n",
              "      <td>1</td>\n",
              "      <td>3</td>\n",
              "      <td>0</td>\n",
              "      <td>2</td>\n",
              "      <td>4</td>\n",
              "      <td>1</td>\n",
              "      <td>1</td>\n",
              "      <td>0</td>\n",
              "    </tr>\n",
              "    <tr>\n",
              "      <th>4</th>\n",
              "      <td>1</td>\n",
              "      <td>0</td>\n",
              "      <td>0</td>\n",
              "      <td>2</td>\n",
              "      <td>1</td>\n",
              "      <td>3</td>\n",
              "      <td>1</td>\n",
              "      <td>5</td>\n",
              "      <td>2</td>\n",
              "      <td>1</td>\n",
              "      <td>0</td>\n",
              "      <td>0</td>\n",
              "    </tr>\n",
              "    <tr>\n",
              "      <th>5</th>\n",
              "      <td>3</td>\n",
              "      <td>1</td>\n",
              "      <td>0</td>\n",
              "      <td>2</td>\n",
              "      <td>1</td>\n",
              "      <td>0</td>\n",
              "      <td>3</td>\n",
              "      <td>2</td>\n",
              "      <td>5</td>\n",
              "      <td>3</td>\n",
              "      <td>1</td>\n",
              "      <td>1</td>\n",
              "    </tr>\n",
              "  </tbody>\n",
              "</table>\n",
              "</div>"
            ],
            "text/plain": [
              "   Age  Gender  ...  Food_type  Street_restaurant_both\n",
              "0    1       0  ...          1                       0\n",
              "1    1       0  ...          1                       0\n",
              "2    1       0  ...          0                       2\n",
              "3    1       0  ...          1                       0\n",
              "4    1       0  ...          0                       0\n",
              "5    3       1  ...          1                       1\n",
              "\n",
              "[6 rows x 12 columns]"
            ]
          },
          "metadata": {
            "tags": []
          },
          "execution_count": 21
        }
      ]
    },
    {
      "cell_type": "markdown",
      "metadata": {
        "id": "eLXXnbi3JlVl"
      },
      "source": [
        "#**Visualization**"
      ]
    },
    {
      "cell_type": "code",
      "metadata": {
        "id": "VMNxko0798-J"
      },
      "source": [
        "import matplotlib.pyplot as plt\n",
        "%matplotlib inline"
      ],
      "execution_count": 22,
      "outputs": []
    },
    {
      "cell_type": "code",
      "metadata": {
        "id": "fHBEFpi1-9Lo"
      },
      "source": [
        "def bar_chart(feature):\n",
        "    Fast_food = dataF[dataF['Food_type']==0][feature].value_counts()\n",
        "    TBF = dataF[dataF['Food_type']==1][feature].value_counts()\n",
        "    others = dataF[dataF['Food_type']==2][feature].value_counts()\n",
        "    dff = pd.DataFrame([Fast_food,TBF,others])\n",
        "    dff.index = ['Fast food','TBF','Others']\n",
        "    dff.plot(kind='bar',stacked=True, figsize=(10,5))"
      ],
      "execution_count": 23,
      "outputs": []
    },
    {
      "cell_type": "code",
      "metadata": {
        "colab": {
          "base_uri": "https://localhost:8080/"
        },
        "id": "BA9q7gisKCLE",
        "outputId": "e8f29d68-3ce1-4af3-9a72-de00e953b7c0"
      },
      "source": [
        "dataF.columns"
      ],
      "execution_count": 24,
      "outputs": [
        {
          "output_type": "execute_result",
          "data": {
            "text/plain": [
              "Index(['Age', 'Gender', 'Marital_status', 'Division', 'Is_urban', 'Work',\n",
              "       'Income', 'Spicy', 'Sweet', 'Preferable_price_BDT', 'Food_type',\n",
              "       'Street_restaurant_both'],\n",
              "      dtype='object')"
            ]
          },
          "metadata": {
            "tags": []
          },
          "execution_count": 24
        }
      ]
    },
    {
      "cell_type": "code",
      "metadata": {
        "colab": {
          "base_uri": "https://localhost:8080/",
          "height": 356
        },
        "id": "ibqPzi8uC7fn",
        "outputId": "50f4aaa5-649f-4a1b-8169-e73961453465"
      },
      "source": [
        "bar_chart('Age')"
      ],
      "execution_count": 25,
      "outputs": [
        {
          "output_type": "display_data",
          "data": {
            "image/png": "[encoded data removed]",
            "text/plain": [
              "<Figure size 720x360 with 1 Axes>"
            ]
          },
          "metadata": {
            "tags": [],
            "needs_background": "light"
          }
        }
      ]
    },
    {
      "cell_type": "code",
      "metadata": {
        "colab": {
          "base_uri": "https://localhost:8080/",
          "height": 356
        },
        "id": "xS_Zf5BvJzv2",
        "outputId": "c919d8a3-65ac-413d-81ff-43fb4d612387"
      },
      "source": [
        "bar_chart('Gender')"
      ],
      "execution_count": 26,
      "outputs": [
        {
          "output_type": "display_data",
          "data": {
            "image/png": "[encoded data removed]",
            "text/plain": [
              "<Figure size 720x360 with 1 Axes>"
            ]
          },
          "metadata": {
            "tags": [],
            "needs_background": "light"
          }
        }
      ]
    },
    {
      "cell_type": "code",
      "metadata": {
        "colab": {
          "base_uri": "https://localhost:8080/",
          "height": 356
        },
        "id": "brWXFvN9J-G9",
        "outputId": "ed3bf78c-04e2-48e7-b1f4-c3c4bab2a511"
      },
      "source": [
        "bar_chart('Marital_status')"
      ],
      "execution_count": 27,
      "outputs": [
        {
          "output_type": "display_data",
          "data": {
            "image/png": "[encoded data removed]",
            "text/plain": [
              "<Figure size 720x360 with 1 Axes>"
            ]
          },
          "metadata": {
            "tags": [],
            "needs_background": "light"
          }
        }
      ]
    },
    {
      "cell_type": "code",
      "metadata": {
        "colab": {
          "base_uri": "https://localhost:8080/",
          "height": 356
        },
        "id": "G5_CtdGIKIHh",
        "outputId": "1266680b-540f-4081-c958-fd942e5ce3af"
      },
      "source": [
        "bar_chart('Division')"
      ],
      "execution_count": 28,
      "outputs": [
        {
          "output_type": "display_data",
          "data": {
            "image/png": "[encoded data removed]",
            "text/plain": [
              "<Figure size 720x360 with 1 Axes>"
            ]
          },
          "metadata": {
            "tags": [],
            "needs_background": "light"
          }
        }
      ]
    },
    {
      "cell_type": "code",
      "metadata": {
        "colab": {
          "base_uri": "https://localhost:8080/",
          "height": 356
        },
        "id": "-Ko_de5CKHrI",
        "outputId": "727bf582-b39d-4788-8131-eb3a52299dbf"
      },
      "source": [
        "bar_chart('Is_urban')"
      ],
      "execution_count": 29,
      "outputs": [
        {
          "output_type": "display_data",
          "data": {
            "image/png": "[encoded data removed]",
            "text/plain": [
              "<Figure size 720x360 with 1 Axes>"
            ]
          },
          "metadata": {
            "tags": [],
            "needs_background": "light"
          }
        }
      ]
    },
    {
      "cell_type": "code",
      "metadata": {
        "colab": {
          "base_uri": "https://localhost:8080/",
          "height": 356
        },
        "id": "0JZGLeDeKXED",
        "outputId": "38935654-aedb-42c5-b2a9-fa7e80f7088b"
      },
      "source": [
        "bar_chart('Work')"
      ],
      "execution_count": 30,
      "outputs": [
        {
          "output_type": "display_data",
          "data": {
            "image/png": "[encoded data removed]",
            "text/plain": [
              "<Figure size 720x360 with 1 Axes>"
            ]
          },
          "metadata": {
            "tags": [],
            "needs_background": "light"
          }
        }
      ]
    },
    {
      "cell_type": "code",
      "metadata": {
        "colab": {
          "base_uri": "https://localhost:8080/",
          "height": 356
        },
        "id": "YgIQuJGfKXBv",
        "outputId": "a8f7096b-669c-4de9-da41-947546df0c80"
      },
      "source": [
        "bar_chart('Income')"
      ],
      "execution_count": 31,
      "outputs": [
        {
          "output_type": "display_data",
          "data": {
            "image/png": "[encoded data removed]",
            "text/plain": [
              "<Figure size 720x360 with 1 Axes>"
            ]
          },
          "metadata": {
            "tags": [],
            "needs_background": "light"
          }
        }
      ]
    },
    {
      "cell_type": "code",
      "metadata": {
        "colab": {
          "base_uri": "https://localhost:8080/",
          "height": 356
        },
        "id": "_s46f1uxKW1s",
        "outputId": "081beebd-1c4e-454a-ebe3-92dddf2df062"
      },
      "source": [
        "bar_chart('Sweet')"
      ],
      "execution_count": 32,
      "outputs": [
        {
          "output_type": "display_data",
          "data": {
            "image/png": "[encoded data removed]",
            "text/plain": [
              "<Figure size 720x360 with 1 Axes>"
            ]
          },
          "metadata": {
            "tags": [],
            "needs_background": "light"
          }
        }
      ]
    },
    {
      "cell_type": "code",
      "metadata": {
        "colab": {
          "base_uri": "https://localhost:8080/",
          "height": 356
        },
        "id": "Rj6yZWPXKWxE",
        "outputId": "48e6fb18-6ac0-4982-f450-d725a4f2b4e0"
      },
      "source": [
        "bar_chart('Preferable_price_BDT')"
      ],
      "execution_count": 33,
      "outputs": [
        {
          "output_type": "display_data",
          "data": {
            "image/png": "[encoded data removed]",
            "text/plain": [
              "<Figure size 720x360 with 1 Axes>"
            ]
          },
          "metadata": {
            "tags": [],
            "needs_background": "light"
          }
        }
      ]
    },
    {
      "cell_type": "code",
      "metadata": {
        "colab": {
          "base_uri": "https://localhost:8080/",
          "height": 356
        },
        "id": "Has-wm7YK_2F",
        "outputId": "c05c8948-43b0-4ab5-d21e-ee349edf8b47"
      },
      "source": [
        "bar_chart('Street_restaurant_both')"
      ],
      "execution_count": 34,
      "outputs": [
        {
          "output_type": "display_data",
          "data": {
            "image/png": "[encoded data removed]",
            "text/plain": [
              "<Figure size 720x360 with 1 Axes>"
            ]
          },
          "metadata": {
            "tags": [],
            "needs_background": "light"
          }
        }
      ]
    },
    {
      "cell_type": "code",
      "metadata": {
        "id": "84_UTTRRLqlb"
      },
      "source": [
        "def scatter_diagram(feature):\n",
        "  plt.scatter(dataF[feature],dataF['Food_type'])\n",
        "  plt.xlabel(feature)\n",
        "  plt.ylabel(\"Food type\")\n",
        "  plt.show()"
      ],
      "execution_count": 35,
      "outputs": []
    },
    {
      "cell_type": "code",
      "metadata": {
        "colab": {
          "base_uri": "https://localhost:8080/",
          "height": 278
        },
        "id": "u6dk9OAoO44f",
        "outputId": "9c6d6d43-7ddd-4c66-9ff4-b92dd30f1eed"
      },
      "source": [
        "scatter_diagram('Age')"
      ],
      "execution_count": 36,
      "outputs": [
        {
          "output_type": "display_data",
          "data": {
            "image/png": "[encoded data removed]",
            "text/plain": [
              "<Figure size 432x288 with 1 Axes>"
            ]
          },
          "metadata": {
            "tags": [],
            "needs_background": "light"
          }
        }
      ]
    },
    {
      "cell_type": "code",
      "metadata": {
        "colab": {
          "base_uri": "https://localhost:8080/",
          "height": 278
        },
        "id": "btJkTn49O6gh",
        "outputId": "f6223e22-cbfc-4b79-fa65-18f4a4aa762e"
      },
      "source": [
        "scatter_diagram('Income')"
      ],
      "execution_count": 37,
      "outputs": [
        {
          "output_type": "display_data",
          "data": {
            "image/png": "[encoded data removed]",
            "text/plain": [
              "<Figure size 432x288 with 1 Axes>"
            ]
          },
          "metadata": {
            "tags": [],
            "needs_background": "light"
          }
        }
      ]
    },
    {
      "cell_type": "code",
      "metadata": {
        "colab": {
          "base_uri": "https://localhost:8080/",
          "height": 278
        },
        "id": "Z9AgDg6GOsMr",
        "outputId": "e171ee35-b20e-4c9d-bc78-305d169ff046"
      },
      "source": [
        "scatter_diagram('Work')"
      ],
      "execution_count": 38,
      "outputs": [
        {
          "output_type": "display_data",
          "data": {
            "image/png": "[encoded data removed]",
            "text/plain": [
              "<Figure size 432x288 with 1 Axes>"
            ]
          },
          "metadata": {
            "tags": [],
            "needs_background": "light"
          }
        }
      ]
    },
    {
      "cell_type": "markdown",
      "metadata": {
        "id": "t88eqvzEJ0Ps"
      },
      "source": [
        "#**Preparing data for model**"
      ]
    },
    {
      "cell_type": "code",
      "metadata": {
        "id": "Knivw_7r_B7w"
      },
      "source": [
        "Train = dataF.drop(['Food_type'],axis=1)\n",
        "Test = dataF[\"Food_type\"]"
      ],
      "execution_count": 39,
      "outputs": []
    },
    {
      "cell_type": "code",
      "metadata": {
        "id": "-mD_0RehAKyg",
        "colab": {
          "base_uri": "https://localhost:8080/"
        },
        "outputId": "7ab71bda-9650-42c4-e1eb-453841dcb7b4"
      },
      "source": [
        "Train.shape, Test.shape"
      ],
      "execution_count": 40,
      "outputs": [
        {
          "output_type": "execute_result",
          "data": {
            "text/plain": [
              "((422, 11), (422,))"
            ]
          },
          "metadata": {
            "tags": []
          },
          "execution_count": 40
        }
      ]
    },
    {
      "cell_type": "markdown",
      "metadata": {
        "id": "mxyg3TDOMKg2"
      },
      "source": [
        "#**Spliting data**"
      ]
    },
    {
      "cell_type": "code",
      "metadata": {
        "id": "2vkU9aNGsVEd"
      },
      "source": [
        "from sklearn.tree import DecisionTreeClassifier\n",
        "from sklearn.ensemble import RandomForestClassifier\n",
        "from sklearn.model_selection import train_test_split\n",
        "import numpy as np"
      ],
      "execution_count": 41,
      "outputs": []
    },
    {
      "cell_type": "code",
      "metadata": {
        "id": "ilk-Yw_MsZNs",
        "colab": {
          "base_uri": "https://localhost:8080/"
        },
        "outputId": "fabb16dd-b8c1-4bb6-cd6c-31f9be1286cc"
      },
      "source": [
        "x_train, x_test, y_train, y_test = train_test_split(Train, Test,test_size=.20)\n",
        "x_train.shape,y_train.shape"
      ],
      "execution_count": 42,
      "outputs": [
        {
          "output_type": "execute_result",
          "data": {
            "text/plain": [
              "((337, 11), (337,))"
            ]
          },
          "metadata": {
            "tags": []
          },
          "execution_count": 42
        }
      ]
    },
    {
      "cell_type": "markdown",
      "metadata": {
        "id": "oMpy6o5DJ5FW"
      },
      "source": [
        "#**Desicion Tree**"
      ]
    },
    {
      "cell_type": "code",
      "metadata": {
        "id": "SE4ZcXI_sbqM"
      },
      "source": [
        "from sklearn.model_selection import KFold\n",
        "from sklearn.model_selection import cross_val_score\n",
        "k_fold = KFold(n_splits=10, shuffle=True, random_state=0)"
      ],
      "execution_count": 43,
      "outputs": []
    },
    {
      "cell_type": "code",
      "metadata": {
        "id": "Fa1e6Hufsgqd",
        "colab": {
          "base_uri": "https://localhost:8080/"
        },
        "outputId": "eecaea72-b437-4b87-8f04-f68fca5ca53d"
      },
      "source": [
        "clf = DecisionTreeClassifier()\n",
        "scoring = 'accuracy'\n",
        "score = cross_val_score(clf, x_train, y_train, cv=k_fold, n_jobs=1, scoring=scoring,error_score='raise')\n",
        "print(score)"
      ],
      "execution_count": 44,
      "outputs": [
        {
          "output_type": "stream",
          "text": [
            "[0.91176471 0.82352941 0.85294118 0.70588235 0.97058824 0.91176471\n",
            " 0.94117647 0.90909091 0.84848485 0.87878788]\n"
          ],
          "name": "stdout"
        }
      ]
    },
    {
      "cell_type": "code",
      "metadata": {
        "id": "epvbmE69sjrF",
        "colab": {
          "base_uri": "https://localhost:8080/"
        },
        "outputId": "c664b33c-2efe-4f33-e29d-e54e1d4af3eb"
      },
      "source": [
        "round(np.mean(score)*100, 2)"
      ],
      "execution_count": 45,
      "outputs": [
        {
          "output_type": "execute_result",
          "data": {
            "text/plain": [
              "87.54"
            ]
          },
          "metadata": {
            "tags": []
          },
          "execution_count": 45
        }
      ]
    },
    {
      "cell_type": "code",
      "metadata": {
        "colab": {
          "base_uri": "https://localhost:8080/"
        },
        "id": "Hkk42sNlKqS7",
        "outputId": "3d2ebcab-eb2a-409d-f5a2-402e9aaf5717"
      },
      "source": [
        "clf.fit(x_train,y_train)\n",
        "prediction = clf.predict(x_test)\n",
        "from sklearn.metrics import accuracy_score,classification_report, confusion_matrix\n",
        "accuracy_score(y_test, prediction)*100"
      ],
      "execution_count": 46,
      "outputs": [
        {
          "output_type": "execute_result",
          "data": {
            "text/plain": [
              "85.88235294117646"
            ]
          },
          "metadata": {
            "tags": []
          },
          "execution_count": 46
        }
      ]
    },
    {
      "cell_type": "code",
      "metadata": {
        "colab": {
          "base_uri": "https://localhost:8080/"
        },
        "id": "x2xFce0XKpYE",
        "outputId": "37e85c25-ddd4-4421-d4d8-aa232c6f303b"
      },
      "source": [
        "print(\"Confusion Matrix -->\")\n",
        "cm = confusion_matrix(y_test, prediction)\n",
        "print(cm)\n",
        "print(\"Classification Report -->\")\n",
        "print(classification_report(y_test, prediction))"
      ],
      "execution_count": 47,
      "outputs": [
        {
          "output_type": "stream",
          "text": [
            "Confusion Matrix -->\n",
            "[[29  6  0]\n",
            " [ 2 35  2]\n",
            " [ 2  0  9]]\n",
            "Classification Report -->\n",
            "              precision    recall  f1-score   support\n",
            "\n",
            "           0       0.88      0.83      0.85        35\n",
            "           1       0.85      0.90      0.88        39\n",
            "           2       0.82      0.82      0.82        11\n",
            "\n",
            "    accuracy                           0.86        85\n",
            "   macro avg       0.85      0.85      0.85        85\n",
            "weighted avg       0.86      0.86      0.86        85\n",
            "\n"
          ],
          "name": "stdout"
        }
      ]
    },
    {
      "cell_type": "code",
      "metadata": {
        "colab": {
          "base_uri": "https://localhost:8080/",
          "height": 470
        },
        "id": "f0ZpdThLLO6n",
        "outputId": "98585744-ebd7-423a-ee72-4f1e9784c35b"
      },
      "source": [
        "import seaborn as sn\n",
        "sn.set()\n",
        "plt.figure(figsize=(10,7))\n",
        "sn.heatmap(cm,annot=True)\n",
        "plt.xlabel('Predicted')\n",
        "plt.ylabel('Truth')"
      ],
      "execution_count": 48,
      "outputs": [
        {
          "output_type": "execute_result",
          "data": {
            "text/plain": [
              "Text(66.5, 0.5, 'Truth')"
            ]
          },
          "metadata": {
            "tags": []
          },
          "execution_count": 48
        },
        {
          "output_type": "display_data",
          "data": {
            "image/png": "[encoded data removed]",
            "text/plain": [
              "<Figure size 720x504 with 2 Axes>"
            ]
          },
          "metadata": {
            "tags": []
          }
        }
      ]
    },
    {
      "cell_type": "markdown",
      "metadata": {
        "id": "yvcbq0DVKS34"
      },
      "source": [
        "#**Random forest**"
      ]
    },
    {
      "cell_type": "code",
      "metadata": {
        "id": "CqXnveKUtDze",
        "colab": {
          "base_uri": "https://localhost:8080/"
        },
        "outputId": "a5351426-c430-4398-a98e-35fcc1f3505d"
      },
      "source": [
        "clf = RandomForestClassifier(n_estimators=13)\n",
        "scoring = 'accuracy'\n",
        "score = cross_val_score(clf, Train, Test, cv=k_fold, n_jobs=1, scoring=scoring)\n",
        "print(score)"
      ],
      "execution_count": 49,
      "outputs": [
        {
          "output_type": "stream",
          "text": [
            "[0.95348837 0.93023256 0.92857143 0.92857143 0.9047619  0.9047619\n",
            " 0.97619048 0.9047619  1.         0.88095238]\n"
          ],
          "name": "stdout"
        }
      ]
    },
    {
      "cell_type": "code",
      "metadata": {
        "id": "hGLojxW8tFv8",
        "colab": {
          "base_uri": "https://localhost:8080/"
        },
        "outputId": "64df9433-2f10-4de5-b2ca-d202f88d05fb"
      },
      "source": [
        "round(np.mean(score)*100, 2)"
      ],
      "execution_count": 50,
      "outputs": [
        {
          "output_type": "execute_result",
          "data": {
            "text/plain": [
              "93.12"
            ]
          },
          "metadata": {
            "tags": []
          },
          "execution_count": 50
        }
      ]
    },
    {
      "cell_type": "code",
      "metadata": {
        "id": "kqhSanqJtIBt"
      },
      "source": [
        "clf = RandomForestClassifier(n_estimators=13)\n",
        "clf.fit(x_train, y_train)\n",
        "\n",
        "prediction = clf.predict(x_test)"
      ],
      "execution_count": 51,
      "outputs": []
    },
    {
      "cell_type": "code",
      "metadata": {
        "id": "_XUzqX44tK79",
        "colab": {
          "base_uri": "https://localhost:8080/"
        },
        "outputId": "afdded32-eb2d-461f-a989-2217b1d80ddd"
      },
      "source": [
        "from sklearn.metrics import accuracy_score,classification_report, confusion_matrix\n",
        "accuracy_score(y_test, prediction)*100"
      ],
      "execution_count": 52,
      "outputs": [
        {
          "output_type": "execute_result",
          "data": {
            "text/plain": [
              "81.17647058823529"
            ]
          },
          "metadata": {
            "tags": []
          },
          "execution_count": 52
        }
      ]
    },
    {
      "cell_type": "code",
      "metadata": {
        "id": "ssBooU-UtMyM",
        "colab": {
          "base_uri": "https://localhost:8080/"
        },
        "outputId": "2d7363f3-cefc-44c8-b2eb-73053949502a"
      },
      "source": [
        "print(\"Confusion Matrix -->\")\n",
        "cmr = confusion_matrix(y_test, prediction)\n",
        "print(cmr)\n",
        "\n",
        "print(\"Classification Report -->\")\n",
        "print(classification_report(y_test, prediction))"
      ],
      "execution_count": 53,
      "outputs": [
        {
          "output_type": "stream",
          "text": [
            "Confusion Matrix -->\n",
            "[[29  4  2]\n",
            " [ 7 32  0]\n",
            " [ 2  1  8]]\n",
            "Classification Report -->\n",
            "              precision    recall  f1-score   support\n",
            "\n",
            "           0       0.76      0.83      0.79        35\n",
            "           1       0.86      0.82      0.84        39\n",
            "           2       0.80      0.73      0.76        11\n",
            "\n",
            "    accuracy                           0.81        85\n",
            "   macro avg       0.81      0.79      0.80        85\n",
            "weighted avg       0.81      0.81      0.81        85\n",
            "\n"
          ],
          "name": "stdout"
        }
      ]
    },
    {
      "cell_type": "code",
      "metadata": {
        "colab": {
          "base_uri": "https://localhost:8080/",
          "height": 465
        },
        "id": "l7EHWRDaMMmI",
        "outputId": "780eb9bb-fcb9-43fc-eda2-016db06c593c"
      },
      "source": [
        "import seaborn as sn\n",
        "sn.set()\n",
        "plt.figure(figsize=(10,7))\n",
        "sn.heatmap(cmr,annot=True)\n",
        "plt.xlabel('Predicted')\n",
        "plt.ylabel('Truth')"
      ],
      "execution_count": 54,
      "outputs": [
        {
          "output_type": "execute_result",
          "data": {
            "text/plain": [
              "Text(66.5, 0.5, 'Truth')"
            ]
          },
          "metadata": {
            "tags": []
          },
          "execution_count": 54
        },
        {
          "output_type": "display_data",
          "data": {
            "image/png": "[encoded data removed]",
            "text/plain": [
              "<Figure size 720x504 with 2 Axes>"
            ]
          },
          "metadata": {
            "tags": []
          }
        }
      ]
    },
    {
      "cell_type": "markdown",
      "metadata": {
        "id": "T6iez3uqC2gJ"
      },
      "source": [
        "#**K Neighber Classifier**"
      ]
    },
    {
      "cell_type": "code",
      "metadata": {
        "id": "-ozwFWmTiUaJ",
        "colab": {
          "base_uri": "https://localhost:8080/"
        },
        "outputId": "87071852-8bc1-440b-96b9-8abab96f2212"
      },
      "source": [
        "from sklearn.neighbors import KNeighborsClassifier\n",
        "from sklearn.metrics import classification_report, confusion_matrix, \\\n",
        "f1_score, jaccard_similarity_score\n",
        "\n",
        "# for k in range(1,11):\n",
        "#   knn_model = KNeighborsClassifier(n_neighbors=k)\n",
        "#   knn_model.fit(x_train, y_train)\n",
        "\n",
        "#   knn_result = knn_model.predict(x_test)\n",
        "\n",
        "#   print(\"Confusion Matrix -->\")\n",
        "#   print(confusion_matrix(y_test, knn_result))\n",
        "\n",
        "#   print(\"Classification Report -->\")\n",
        "#   print(classification_report(y_test, knn_result))\n",
        "#   print(\"Accuricy : \",jaccard_similarity_score(y_test, knn_result))\n",
        "#   print(\"Train set Accuricy\", jaccard_similarity_score(y_train, knn_model.predict(x_train)))\n",
        "knn_model = KNeighborsClassifier(n_neighbors=1)\n",
        "knn_model.fit(x_train, y_train)\n",
        "knn_result = knn_model.predict(x_test)\n",
        "print(\"Confusion Matrix -->\")\n",
        "print(confusion_matrix(y_test, knn_result))\n",
        "\n",
        "print(\"Classification Report -->\")\n",
        "print(classification_report(y_test, knn_result))\n",
        "print(\"Accuricy : \",jaccard_similarity_score(y_test, knn_result)*100)\n",
        "print(\"Train set Accuricy\", jaccard_similarity_score(y_train, knn_model.predict(x_train))*100)"
      ],
      "execution_count": 55,
      "outputs": [
        {
          "output_type": "stream",
          "text": [
            "Confusion Matrix -->\n",
            "[[29  2  4]\n",
            " [ 2 37  0]\n",
            " [ 0  2  9]]\n",
            "Classification Report -->\n",
            "              precision    recall  f1-score   support\n",
            "\n",
            "           0       0.94      0.83      0.88        35\n",
            "           1       0.90      0.95      0.92        39\n",
            "           2       0.69      0.82      0.75        11\n",
            "\n",
            "    accuracy                           0.88        85\n",
            "   macro avg       0.84      0.87      0.85        85\n",
            "weighted avg       0.89      0.88      0.88        85\n",
            "\n",
            "Accuricy :  88.23529411764706\n",
            "Train set Accuricy 99.40652818991099\n"
          ],
          "name": "stdout"
        },
        {
          "output_type": "stream",
          "text": [
            "/usr/local/lib/python3.7/dist-packages/sklearn/metrics/_classification.py:664: FutureWarning: jaccard_similarity_score has been deprecated and replaced with jaccard_score. It will be removed in version 0.23. This implementation has surprising behavior for binary and multiclass classification tasks.\n",
            "  FutureWarning)\n",
            "/usr/local/lib/python3.7/dist-packages/sklearn/metrics/_classification.py:664: FutureWarning: jaccard_similarity_score has been deprecated and replaced with jaccard_score. It will be removed in version 0.23. This implementation has surprising behavior for binary and multiclass classification tasks.\n",
            "  FutureWarning)\n"
          ],
          "name": "stderr"
        }
      ]
    },
    {
      "cell_type": "code",
      "metadata": {
        "id": "W1pv_CepiUKm"
      },
      "source": [
        "knn_result = knn_model.predict(x_test)"
      ],
      "execution_count": 56,
      "outputs": []
    },
    {
      "cell_type": "code",
      "metadata": {
        "id": "nmJaxUAxiUDe",
        "colab": {
          "base_uri": "https://localhost:8080/"
        },
        "outputId": "39084897-0119-4fec-f8d9-072be35bdbe2"
      },
      "source": [
        "from sklearn.metrics import classification_report, confusion_matrix, \\\n",
        "f1_score, jaccard_similarity_score\n",
        "print(\"Confusion Matrix -->\")\n",
        "print(confusion_matrix(y_test, knn_result))\n",
        "\n",
        "print(\"Classification Report -->\")\n",
        "print(classification_report(y_test, knn_result))"
      ],
      "execution_count": 57,
      "outputs": [
        {
          "output_type": "stream",
          "text": [
            "Confusion Matrix -->\n",
            "[[29  2  4]\n",
            " [ 2 37  0]\n",
            " [ 0  2  9]]\n",
            "Classification Report -->\n",
            "              precision    recall  f1-score   support\n",
            "\n",
            "           0       0.94      0.83      0.88        35\n",
            "           1       0.90      0.95      0.92        39\n",
            "           2       0.69      0.82      0.75        11\n",
            "\n",
            "    accuracy                           0.88        85\n",
            "   macro avg       0.84      0.87      0.85        85\n",
            "weighted avg       0.89      0.88      0.88        85\n",
            "\n"
          ],
          "name": "stdout"
        }
      ]
    },
    {
      "cell_type": "code",
      "metadata": {
        "id": "45UgMVdeiT7W",
        "colab": {
          "base_uri": "https://localhost:8080/"
        },
        "outputId": "0368e745-bb7a-456c-bf12-2dd401648b8e"
      },
      "source": [
        "print(\"Accuricy : \",jaccard_similarity_score(y_test, knn_result)*100)\n"
      ],
      "execution_count": 58,
      "outputs": [
        {
          "output_type": "stream",
          "text": [
            "Accuricy :  88.23529411764706\n"
          ],
          "name": "stdout"
        },
        {
          "output_type": "stream",
          "text": [
            "/usr/local/lib/python3.7/dist-packages/sklearn/metrics/_classification.py:664: FutureWarning: jaccard_similarity_score has been deprecated and replaced with jaccard_score. It will be removed in version 0.23. This implementation has surprising behavior for binary and multiclass classification tasks.\n",
            "  FutureWarning)\n"
          ],
          "name": "stderr"
        }
      ]
    },
    {
      "cell_type": "markdown",
      "metadata": {
        "id": "bnRoCiNLK4jV"
      },
      "source": [
        "#**Support Vector Machine**"
      ]
    },
    {
      "cell_type": "code",
      "metadata": {
        "colab": {
          "base_uri": "https://localhost:8080/"
        },
        "id": "Iye-ljnhKzEg",
        "outputId": "8d5fbe82-5922-40ed-aa62-60545dde94b7"
      },
      "source": [
        "from sklearn import svm\n",
        "svm_model = svm.SVC(C= 20, gamma= 'auto', kernel='rbf')\n",
        "svm_model.fit(x_train, y_train)"
      ],
      "execution_count": 59,
      "outputs": [
        {
          "output_type": "execute_result",
          "data": {
            "text/plain": [
              "SVC(C=20, break_ties=False, cache_size=200, class_weight=None, coef0=0.0,\n",
              "    decision_function_shape='ovr', degree=3, gamma='auto', kernel='rbf',\n",
              "    max_iter=-1, probability=False, random_state=None, shrinking=True,\n",
              "    tol=0.001, verbose=False)"
            ]
          },
          "metadata": {
            "tags": []
          },
          "execution_count": 59
        }
      ]
    },
    {
      "cell_type": "code",
      "metadata": {
        "colab": {
          "base_uri": "https://localhost:8080/"
        },
        "id": "0IHURmu7LRQ-",
        "outputId": "9e3af5d5-e74c-4f3f-8ba8-6b9b3b71be43"
      },
      "source": [
        "svm_result = svm_model.predict(x_test)\n",
        "print(\"Confusion Matrix : \", confusion_matrix(y_test, svm_result))\n",
        "print(classification_report(y_test, svm_result))\n",
        "print(\"Jaccard index : \", jaccard_similarity_score(y_test, svm_result))"
      ],
      "execution_count": 60,
      "outputs": [
        {
          "output_type": "stream",
          "text": [
            "Confusion Matrix :  [[25  8  2]\n",
            " [ 5 34  0]\n",
            " [ 4  0  7]]\n",
            "              precision    recall  f1-score   support\n",
            "\n",
            "           0       0.74      0.71      0.72        35\n",
            "           1       0.81      0.87      0.84        39\n",
            "           2       0.78      0.64      0.70        11\n",
            "\n",
            "    accuracy                           0.78        85\n",
            "   macro avg       0.77      0.74      0.75        85\n",
            "weighted avg       0.77      0.78      0.77        85\n",
            "\n",
            "Jaccard index :  0.7764705882352941\n"
          ],
          "name": "stdout"
        },
        {
          "output_type": "stream",
          "text": [
            "/usr/local/lib/python3.7/dist-packages/sklearn/metrics/_classification.py:664: FutureWarning: jaccard_similarity_score has been deprecated and replaced with jaccard_score. It will be removed in version 0.23. This implementation has surprising behavior for binary and multiclass classification tasks.\n",
            "  FutureWarning)\n"
          ],
          "name": "stderr"
        }
      ]
    },
    {
      "cell_type": "markdown",
      "metadata": {
        "id": "ZGIAV8-0M-Io"
      },
      "source": [
        "#**Logistic Regression**"
      ]
    },
    {
      "cell_type": "code",
      "metadata": {
        "id": "9SCX_PZCozso"
      },
      "source": [
        "from sklearn import linear_model\n",
        "log_reg = linear_model.LogisticRegression()"
      ],
      "execution_count": 61,
      "outputs": []
    },
    {
      "cell_type": "code",
      "metadata": {
        "id": "GzA5nlaVoze2",
        "colab": {
          "base_uri": "https://localhost:8080/"
        },
        "outputId": "022cc7c1-ba01-41c6-ee0a-34cd504259d7"
      },
      "source": [
        "log_reg.fit(x_train,y_train)"
      ],
      "execution_count": 62,
      "outputs": [
        {
          "output_type": "stream",
          "text": [
            "/usr/local/lib/python3.7/dist-packages/sklearn/linear_model/_logistic.py:940: ConvergenceWarning: lbfgs failed to converge (status=1):\n",
            "STOP: TOTAL NO. of ITERATIONS REACHED LIMIT.\n",
            "\n",
            "Increase the number of iterations (max_iter) or scale the data as shown in:\n",
            "    https://scikit-learn.org/stable/modules/preprocessing.html\n",
            "Please also refer to the documentation for alternative solver options:\n",
            "    https://scikit-learn.org/stable/modules/linear_model.html#logistic-regression\n",
            "  extra_warning_msg=_LOGISTIC_SOLVER_CONVERGENCE_MSG)\n"
          ],
          "name": "stderr"
        },
        {
          "output_type": "execute_result",
          "data": {
            "text/plain": [
              "LogisticRegression(C=1.0, class_weight=None, dual=False, fit_intercept=True,\n",
              "                   intercept_scaling=1, l1_ratio=None, max_iter=100,\n",
              "                   multi_class='auto', n_jobs=None, penalty='l2',\n",
              "                   random_state=None, solver='lbfgs', tol=0.0001, verbose=0,\n",
              "                   warm_start=False)"
            ]
          },
          "metadata": {
            "tags": []
          },
          "execution_count": 62
        }
      ]
    },
    {
      "cell_type": "code",
      "metadata": {
        "id": "9Gy8hoE8ozVc"
      },
      "source": [
        "log_predict = log_reg.predict(x_test)"
      ],
      "execution_count": 63,
      "outputs": []
    },
    {
      "cell_type": "code",
      "metadata": {
        "colab": {
          "base_uri": "https://localhost:8080/"
        },
        "id": "3GwgOPrJhurE",
        "outputId": "1f770649-9395-4d95-d702-f0b0ebce2368"
      },
      "source": [
        "accuracy_score(y_test, log_predict)"
      ],
      "execution_count": 64,
      "outputs": [
        {
          "output_type": "execute_result",
          "data": {
            "text/plain": [
              "0.5647058823529412"
            ]
          },
          "metadata": {
            "tags": []
          },
          "execution_count": 64
        }
      ]
    },
    {
      "cell_type": "code",
      "metadata": {
        "colab": {
          "base_uri": "https://localhost:8080/"
        },
        "id": "R9ui8oHwiZHz",
        "outputId": "1f5d2aaa-d4ca-483b-99b8-80ede353e8e2"
      },
      "source": [
        "cmlr = confusion_matrix(y_test,log_predict)\n",
        "cmlr"
      ],
      "execution_count": 65,
      "outputs": [
        {
          "output_type": "execute_result",
          "data": {
            "text/plain": [
              "array([[23, 12,  0],\n",
              "       [15, 24,  0],\n",
              "       [ 4,  6,  1]])"
            ]
          },
          "metadata": {
            "tags": []
          },
          "execution_count": 65
        }
      ]
    },
    {
      "cell_type": "code",
      "metadata": {
        "colab": {
          "base_uri": "https://localhost:8080/",
          "height": 465
        },
        "id": "tjuB-uC1MvIf",
        "outputId": "9cbea923-e79d-4b2d-f6fd-17d7ab08fc33"
      },
      "source": [
        "import seaborn as sn\n",
        "sn.set()\n",
        "plt.figure(figsize=(10,7))\n",
        "sn.heatmap(cmlr,annot=True)\n",
        "plt.xlabel('Predicted')\n",
        "plt.ylabel('Truth')"
      ],
      "execution_count": 66,
      "outputs": [
        {
          "output_type": "execute_result",
          "data": {
            "text/plain": [
              "Text(66.5, 0.5, 'Truth')"
            ]
          },
          "metadata": {
            "tags": []
          },
          "execution_count": 66
        },
        {
          "output_type": "display_data",
          "data": {
            "image/png": "[encoded data removed]",
            "text/plain": [
              "<Figure size 720x504 with 2 Axes>"
            ]
          },
          "metadata": {
            "tags": []
          }
        }
      ]
    },
    {
      "cell_type": "code",
      "metadata": {
        "id": "KUuehfZFVnyW"
      },
      "source": [
        ""
      ],
      "execution_count": 66,
      "outputs": []
    },
    {
      "cell_type": "markdown",
      "metadata": {
        "id": "k6EDbWQDKmnm"
      },
      "source": [
        "# **Naive Bayes**"
      ]
    },
    {
      "cell_type": "code",
      "metadata": {
        "id": "Tivdey_EL-iO"
      },
      "source": [
        "from sklearn.naive_bayes import GaussianNB,BernoulliNB\n",
        "gnb = GaussianNB()\n",
        "gnb.fit(x_train, y_train)\n",
        "y_pred = gnb.predict(x_test)"
      ],
      "execution_count": 67,
      "outputs": []
    },
    {
      "cell_type": "code",
      "metadata": {
        "colab": {
          "base_uri": "https://localhost:8080/"
        },
        "id": "lZ84Xn2iMiOO",
        "outputId": "df50a1be-46a7-4ec6-ab9d-86e6644afcac"
      },
      "source": [
        "accuracy_score(y_test, y_pred)*100"
      ],
      "execution_count": 68,
      "outputs": [
        {
          "output_type": "execute_result",
          "data": {
            "text/plain": [
              "48.23529411764706"
            ]
          },
          "metadata": {
            "tags": []
          },
          "execution_count": 68
        }
      ]
    },
    {
      "cell_type": "code",
      "metadata": {
        "colab": {
          "base_uri": "https://localhost:8080/"
        },
        "id": "HRR_iPAmMtVw",
        "outputId": "9eee95d8-1c0d-49fc-9c96-1b1605fecd08"
      },
      "source": [
        "cmgnb = confusion_matrix(y_test,y_pred)\n",
        "cmgnb"
      ],
      "execution_count": 69,
      "outputs": [
        {
          "output_type": "execute_result",
          "data": {
            "text/plain": [
              "array([[30,  5,  0],\n",
              "       [28, 11,  0],\n",
              "       [ 8,  3,  0]])"
            ]
          },
          "metadata": {
            "tags": []
          },
          "execution_count": 69
        }
      ]
    },
    {
      "cell_type": "code",
      "metadata": {
        "colab": {
          "base_uri": "https://localhost:8080/",
          "height": 465
        },
        "id": "ic3vurvxMxbQ",
        "outputId": "de31a938-29d4-4b11-df48-5e60852d16d1"
      },
      "source": [
        "import seaborn as sn\n",
        "sn.set()\n",
        "plt.figure(figsize=(10,7))\n",
        "sn.heatmap(cmlr,annot=True)\n",
        "plt.xlabel('Predicted')\n",
        "plt.ylabel('Truth')"
      ],
      "execution_count": 70,
      "outputs": [
        {
          "output_type": "execute_result",
          "data": {
            "text/plain": [
              "Text(66.5, 0.5, 'Truth')"
            ]
          },
          "metadata": {
            "tags": []
          },
          "execution_count": 70
        },
        {
          "output_type": "display_data",
          "data": {
            "image/png": "[encoded data removed]",
            "text/plain": [
              "<Figure size 720x504 with 2 Axes>"
            ]
          },
          "metadata": {
            "tags": []
          }
        }
      ]
    },
    {
      "cell_type": "code",
      "metadata": {
        "id": "0TyJsVqHM1au"
      },
      "source": [
        "bnb = BernoulliNB()\n",
        "bnb.fit(x_train,y_train)\n",
        "y_pred = bnb.predict(x_test)"
      ],
      "execution_count": 71,
      "outputs": []
    },
    {
      "cell_type": "code",
      "metadata": {
        "colab": {
          "base_uri": "https://localhost:8080/"
        },
        "id": "0d-Uw9t3M45w",
        "outputId": "d36531ae-95ff-4ea2-a53c-8642bdfdcbeb"
      },
      "source": [
        "accuracy_score(y_test, y_pred)*100"
      ],
      "execution_count": 72,
      "outputs": [
        {
          "output_type": "execute_result",
          "data": {
            "text/plain": [
              "55.294117647058826"
            ]
          },
          "metadata": {
            "tags": []
          },
          "execution_count": 72
        }
      ]
    },
    {
      "cell_type": "code",
      "metadata": {
        "colab": {
          "base_uri": "https://localhost:8080/"
        },
        "id": "QTisxiDRM6xs",
        "outputId": "f4b8f310-3e49-4ce2-b34c-cdb085157276"
      },
      "source": [
        "cmbnb = confusion_matrix(y_test,y_pred)\n",
        "cmbnb"
      ],
      "execution_count": 73,
      "outputs": [
        {
          "output_type": "execute_result",
          "data": {
            "text/plain": [
              "array([[22, 13,  0],\n",
              "       [14, 25,  0],\n",
              "       [ 5,  6,  0]])"
            ]
          },
          "metadata": {
            "tags": []
          },
          "execution_count": 73
        }
      ]
    },
    {
      "cell_type": "code",
      "metadata": {
        "colab": {
          "base_uri": "https://localhost:8080/",
          "height": 465
        },
        "id": "sQPsicizOB0W",
        "outputId": "8e20ba5c-0702-4b2f-f8d7-85925afc9e9a"
      },
      "source": [
        "import seaborn as sn\n",
        "sn.set()\n",
        "plt.figure(figsize=(10,7))\n",
        "sn.heatmap(cmlr,annot=True)\n",
        "plt.xlabel('Predicted')\n",
        "plt.ylabel('Truth')"
      ],
      "execution_count": 74,
      "outputs": [
        {
          "output_type": "execute_result",
          "data": {
            "text/plain": [
              "Text(66.5, 0.5, 'Truth')"
            ]
          },
          "metadata": {
            "tags": []
          },
          "execution_count": 74
        },
        {
          "output_type": "display_data",
          "data": {
            "image/png": "[encoded data removed]",
            "text/plain": [
              "<Figure size 720x504 with 2 Axes>"
            ]
          },
          "metadata": {
            "tags": []
          }
        }
      ]
    },
    {
      "cell_type": "code",
      "metadata": {
        "id": "BHNkAHpzOD4h"
      },
      "source": [
        ""
      ],
      "execution_count": null,
      "outputs": []
    }
  ]
}